{
 "cells": [
  {
   "cell_type": "markdown",
   "metadata": {},
   "source": [
    "## Угадываем рандомно"
   ]
  },
  {
   "cell_type": "code",
   "execution_count": 9,
   "metadata": {},
   "outputs": [
    {
     "name": "stdout",
     "output_type": "stream",
     "text": [
      "Ваш алгоритм угадывает число в среднем за:4 попыток\n"
     ]
    }
   ],
   "source": [
    "import numpy as np\n",
    "\n",
    "random_array = np.random.randint(1, 100, size=(10)) \n",
    "# генерируем список из 1000-и случайных чисел\n",
    "count_ls = []\n",
    "# создаем список, который будем населять кол-вом попыток для угадывания каждого из тысячи, загаданных чисел\n",
    "\n",
    "for number in random_array:\n",
    "# создаем цикл для последовательного сравнения чисел из списка с медианами по диапазону возможных значений и фиксирования попыток\n",
    "    count = 0\n",
    "    # выставляем счетчик на 0\n",
    "    min = 1\n",
    "    max = 100\n",
    "    # задаем исходные мин и макс значения для диапазона возможных значений\n",
    "    predict_number = int((min+max)/2)\n",
    "    # задаем первую медиану по максимальному диапазону для сравнения\n",
    "    \n",
    "    while predict_number != number:\n",
    "    # цикл сравнивает число из случайного массива с медианой актуального диапазона чисел\n",
    "        count += 1\n",
    "        if number > predict_number:\n",
    "            min = predict_number\n",
    "            predict_number = int((min+max)/2)\n",
    "        elif number < predict_number:\n",
    "            max = predict_number \n",
    "            predict_number = int((min+max)/2)\n",
    "    count_ls.append(count)\n",
    "score = round(sum(count_ls)/len(count_ls))\n",
    "# вычисляем среднее\n",
    "print(f\"Ваш алгоритм угадывает число в среднем за:{score} попыток\")"
   ]
  },
  {
   "cell_type": "code",
   "execution_count": null,
   "metadata": {},
   "outputs": [],
   "source": []
  }
 ],
 "metadata": {
  "interpreter": {
   "hash": "fe06f96167c4fc64a78c238d993189072a4e72b444216e36203d6f96126eaf0a"
  },
  "kernelspec": {
   "display_name": "Python 3.9.10 64-bit",
   "language": "python",
   "name": "python3"
  },
  "language_info": {
   "codemirror_mode": {
    "name": "ipython",
    "version": 3
   },
   "file_extension": ".py",
   "mimetype": "text/x-python",
   "name": "python",
   "nbconvert_exporter": "python",
   "pygments_lexer": "ipython3",
   "version": "3.9.10"
  },
  "orig_nbformat": 4
 },
 "nbformat": 4,
 "nbformat_minor": 2
}
